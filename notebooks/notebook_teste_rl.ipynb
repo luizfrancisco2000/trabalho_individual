{
 "cells": [
  {
   "cell_type": "code",
   "execution_count": null,
   "id": "429a44df",
   "metadata": {},
   "outputs": [
    {
     "ename": "",
     "evalue": "",
     "output_type": "error",
     "traceback": [
      "\u001b[1;31mRunning cells with '.venv (Python 3.11.7)' requires the ipykernel package.\n",
      "\u001b[1;31mInstall 'ipykernel' into the Python environment. \n",
      "\u001b[1;31mCommand: 'd:/Trabalho_individual/trabalho_individual/.venv/Scripts/python.exe -m pip install ipykernel -U --force-reinstall'"
     ]
    }
   ],
   "source": [
    "import os, random, math, time, warnings\n",
    "warnings.filterwarnings(\"ignore\")\n",
    "import numpy as np\n",
    "import torch, torch.nn as nn\n",
    "from torch.utils.data import DataLoader, Subset\n",
    "from torchvision import transforms\n",
    "import gym\n",
    "from gym import spaces\n",
    "import pennylane as qml\n",
    "from pennylane import numpy as pnp\n",
    "from stable_baselines3 import PPO\n",
    "from medmnist import INFO, PathMNIST"
   ]
  }
 ],
 "metadata": {
  "kernelspec": {
   "display_name": ".venv",
   "language": "python",
   "name": "python3"
  },
  "language_info": {
   "name": "python",
   "version": "3.11.7"
  }
 },
 "nbformat": 4,
 "nbformat_minor": 5
}
